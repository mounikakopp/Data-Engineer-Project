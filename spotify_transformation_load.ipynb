import json
import boto3
from datetime import datetime
from io import StringIO
import pandas as pd

def album(data):
    album_list = []
    for row in data['items']:
        album_id = row['track']['album']['id']
        album_name = row['track']['album']['name']
        album_release_date = row['track']['album']['release_date']
        album_total_tracks = row['track']['album']['total_tracks']
        album_external_url = row['track']['album']['external_urls']['spotify']
        album_elements ={'album_id' : album_id, 'album_name' : album_name,
                           'album_release_date' : album_release_date, 'album_total_tracks':album_total_tracks,'album_external_url':album_external_url}
        album_list.append(album_elements)
    return album_list

def artist(data):
    artist_list = []
    for row in data['items']:
        for key,value in row.items():
            if key == "track":
                for artist in value['artists']:
                    artist_list.append({'artist_id':artist['id'],'artist_name':artist['name'],'external_url':artist['href']})
    return artist_list
    
def songs(data):
    songs_list = []
    for row in data['items']:
      song_id = row['track']['id']
      song_name = row['track']['name']
      song_duration = row['track']['duration_ms']
      song_url = row['track']['external_urls']['spotify']
      song_popularity = row['track']['popularity']
      song_added = row['added_at']
      album_id = row['track']['album']['id']
      artist_id= row['track']['album']['artists'][0]['id']
      song_elements ={'song_id':song_id,'song_name':song_name,'song_duration':song_duration,'song_url':song_url,'song_popularity':song_popularity,'song_added':song_added,
                      'album_id' : album_id, 'artist_id' : artist_id,}
      songs_list.append(song_elements)
    
    return songs_list
    
def lambda_handler(event, context):
    s3 = boto3.client('s3')
    Bucket = "spotifyetlbucketmounika"
    Key = "raw_data/to_processed/"
    
    spotify_data = []
    spotify_keys = []
    for file in s3.list_objects(Bucket = Bucket, Prefix = Key)['Contents']:
        file_key = file['Key']
        if file_key.split('.')[-1] == 'json':
            response = s3.get_object(Bucket = Bucket, Key = file_key)
            content = response['Body']
            jsonObject = json.loads(content.read())
            spotify_data.append(jsonObject)
            spotify_keys.append(file_key)
            
    for data in spotify_data:
        album_list = album(data)
        artist_list = artist(data)
        songs_list = songs(data)
        
        
        #converting dictionary list to dataframe
        df_album = pd.DataFrame(album_list)
        df_artist = pd.DataFrame(artist_list)
        df_songs = pd.DataFrame(songs_list)
        
        df_album = df_album.drop_duplicates()
        df_artist = df_artist.drop_duplicates()
        df_songs = df_songs.drop_duplicates()
        
        df_album['album_release_date'] = pd.to_datetime(df_album['album_release_date'],format="%Y-%m-%d", errors='coerce')
        df_songs['song_added'] = pd.to_datetime(df_songs['song_added'],format="%Y-%m-%d", errors='coerce')
        
        album_key = "transformed_data/album_data/album_transformed_" + str(datetime.now()) + ".csv"
        
        # here we are converting data frame to stringio inorder to save it in csv file
        album_buffer = StringIO()
        df_album.to_csv(album_buffer,index = False)
        album_content = album_buffer.getvalue()
        s3.put_object(Bucket=Bucket, Key = album_key, Body= album_content)
        
        artist_key = "transformed_data/artist_data/artist_transformed_" + str(datetime.now()) + ".csv"
        artist_buffer = StringIO()
        df_artist.to_csv(artist_buffer,index = False)
        artist_content = artist_buffer.getvalue()
        s3.put_object(Bucket=Bucket, Key = artist_key, Body= artist_content)

        song_key = "transformed_data/songs_data/song_transformed_" + str(datetime.now()) + ".csv"
        song_buffer = StringIO()
        df_songs.to_csv(song_buffer,index = False)
        song_content = song_buffer.getvalue()
        s3.put_object(Bucket=Bucket, Key = song_key, Body= song_content)
        
        
    s3_resource = boto3.resource('s3')
    for key in spotify_keys:
        copy_source = {'Bucket':Bucket,'Key':key}
        s3_resource.meta.client.copy(copy_source, Bucket, 'raw_data/processed/' + key.split('/')[-1])
        s3_resource.Object(Bucket, key).delete()