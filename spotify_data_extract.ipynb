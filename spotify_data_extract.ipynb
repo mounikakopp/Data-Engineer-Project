import json
import os
import spotipy
from spotipy.oauth2 import SpotifyClientCredentials
import boto3
from datetime import datetime

def lambda_handler(event, context):
    # TODO implement
    client_id= os.environ.get('client_id')
    client_secret= os.environ.get('client_secret')
    
    Client_credentials_manager = SpotifyClientCredentials(client_id=client_id,client_secret=client_secret)
    sp = spotipy.Spotify(client_credentials_manager = Client_credentials_manager)
    
    playlist_link = "https://open.spotify.com/playlist/5ABHKGoOzxkaa28ttQV9sE?si=db978186f83a46c7" 
    playlist_URI = playlist_link.split("/")[-1].split('?')[0]
    data = sp.playlist_tracks(playlist_URI)
    
    #import the data into s3 bucket , boto3 is used for that
    client = boto3.client('s3')
    
    filename = "spotify_raw_" + str(datetime.now()) + ".json"
    client.put_object(
        Bucket = 'spotifyetlbucketmounika',
        Key = "raw_data/to_processed/" + filename ,
        Body = json.dumps(data)
        )
    