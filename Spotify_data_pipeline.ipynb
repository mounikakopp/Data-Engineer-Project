{
  "nbformat": 4,
  "nbformat_minor": 0,
  "metadata": {
    "colab": {
      "provenance": []
    },
    "kernelspec": {
      "name": "python3",
      "display_name": "Python 3"
    },
    "language_info": {
      "name": "python"
    }
  },
  "cells": [
    {
      "cell_type": "code",
      "execution_count": 1,
      "metadata": {
        "colab": {
          "base_uri": "https://localhost:8080/"
        },
        "id": "aKfrpzbCS7hx",
        "outputId": "603a550c-bdce-4191-a6ac-07722d1d45ef"
      },
      "outputs": [
        {
          "output_type": "stream",
          "name": "stdout",
          "text": [
            "Collecting spotipy\n",
            "  Downloading spotipy-2.23.0-py3-none-any.whl (29 kB)\n",
            "Collecting redis>=3.5.3 (from spotipy)\n",
            "  Downloading redis-5.0.1-py3-none-any.whl (250 kB)\n",
            "\u001b[2K     \u001b[90m━━━━━━━━━━━━━━━━━━━━━━━━━━━━━━━━━━━━━━━━\u001b[0m \u001b[32m250.3/250.3 kB\u001b[0m \u001b[31m5.1 MB/s\u001b[0m eta \u001b[36m0:00:00\u001b[0m\n",
            "\u001b[?25hRequirement already satisfied: requests>=2.25.0 in /usr/local/lib/python3.10/dist-packages (from spotipy) (2.31.0)\n",
            "Requirement already satisfied: six>=1.15.0 in /usr/local/lib/python3.10/dist-packages (from spotipy) (1.16.0)\n",
            "Requirement already satisfied: urllib3>=1.26.0 in /usr/local/lib/python3.10/dist-packages (from spotipy) (2.0.6)\n",
            "Requirement already satisfied: async-timeout>=4.0.2 in /usr/local/lib/python3.10/dist-packages (from redis>=3.5.3->spotipy) (4.0.3)\n",
            "Requirement already satisfied: charset-normalizer<4,>=2 in /usr/local/lib/python3.10/dist-packages (from requests>=2.25.0->spotipy) (3.3.0)\n",
            "Requirement already satisfied: idna<4,>=2.5 in /usr/local/lib/python3.10/dist-packages (from requests>=2.25.0->spotipy) (3.4)\n",
            "Requirement already satisfied: certifi>=2017.4.17 in /usr/local/lib/python3.10/dist-packages (from requests>=2.25.0->spotipy) (2023.7.22)\n",
            "Installing collected packages: redis, spotipy\n",
            "Successfully installed redis-5.0.1 spotipy-2.23.0\n"
          ]
        }
      ],
      "source": [
        "# To access spotify API\n",
        "!pip install spotipy"
      ]
    },
    {
      "cell_type": "code",
      "source": [
        "import spotipy\n",
        "from spotipy.oauth2 import SpotifyClientCredentials"
      ],
      "metadata": {
        "id": "KaVzN2_eTJQh"
      },
      "execution_count": 26,
      "outputs": []
    },
    {
      "cell_type": "code",
      "source": [
        "# Permissions to access data from spotify, we get client id and secret key when we create and app in developers spotify\n",
        "Client_credentials_manager = SpotifyClientCredentials(client_id='b8d0772b68ba48d9931534d43d06f164',client_secret='d74687e13fa94c8fbba49d52c1f7cfd2')"
      ],
      "metadata": {
        "id": "3UpPWgHLTiGF"
      },
      "execution_count": 27,
      "outputs": []
    },
    {
      "cell_type": "code",
      "source": [
        "#create spotify object to extract data using client credentials\n",
        "sp = spotipy.Spotify(client_credentials_manager = Client_credentials_manager)"
      ],
      "metadata": {
        "id": "W4fD-1LsUMwn"
      },
      "execution_count": 28,
      "outputs": []
    },
    {
      "cell_type": "code",
      "source": [
        "# To extract top 100 trending songs from spotify\n",
        "playlist_link = \"https://open.spotify.com/playlist/5ABHKGoOzxkaa28ttQV9sE?si=db978186f83a46c7\""
      ],
      "metadata": {
        "id": "85ZJLwD8Us75"
      },
      "execution_count": 29,
      "outputs": []
    },
    {
      "cell_type": "code",
      "source": [
        "#we want id of the playlist which is present before question mark in above url, we will extract that from the link.\n",
        "playlist_URI = playlist_link.split(\"/\")[-1].split('?')[0]"
      ],
      "metadata": {
        "id": "liyAXZ__VXgh"
      },
      "execution_count": 30,
      "outputs": []
    },
    {
      "cell_type": "code",
      "source": [
        "#this will give all the information about tracks(such as name of album, artist, total tracks, release date, year) under that URI in json format\n",
        "data = sp.playlist_tracks(playlist_URI)"
      ],
      "metadata": {
        "id": "xL4qMpuvWVyn"
      },
      "execution_count": 31,
      "outputs": []
    },
    {
      "cell_type": "code",
      "source": [
        "len(data['items'])"
      ],
      "metadata": {
        "colab": {
          "base_uri": "https://localhost:8080/"
        },
        "id": "LD99opdCYTeG",
        "outputId": "19e61d3d-5958-4978-e9bb-c14544cebba3"
      },
      "execution_count": 32,
      "outputs": [
        {
          "output_type": "execute_result",
          "data": {
            "text/plain": [
              "100"
            ]
          },
          "metadata": {},
          "execution_count": 32
        }
      ]
    },
    {
      "cell_type": "code",
      "source": [
        "data['items'][0]['track']['album']['id']"
      ],
      "metadata": {
        "colab": {
          "base_uri": "https://localhost:8080/",
          "height": 36
        },
        "id": "VYYszxFIXM2E",
        "outputId": "9266f2d0-e6d0-4310-8c50-e3f68f069479"
      },
      "execution_count": 33,
      "outputs": [
        {
          "output_type": "execute_result",
          "data": {
            "text/plain": [
              "'4yP0hdKOZPNshxUOjY0cZj'"
            ],
            "application/vnd.google.colaboratory.intrinsic+json": {
              "type": "string"
            }
          },
          "metadata": {},
          "execution_count": 33
        }
      ]
    },
    {
      "cell_type": "code",
      "source": [
        "data['items'][0]['track']['album']['name']"
      ],
      "metadata": {
        "colab": {
          "base_uri": "https://localhost:8080/",
          "height": 36
        },
        "id": "XP6PKDdaXiOl",
        "outputId": "fa7dc03e-7250-415a-cb32-635e0e2b75c6"
      },
      "execution_count": 16,
      "outputs": [
        {
          "output_type": "execute_result",
          "data": {
            "text/plain": [
              "'After Hours'"
            ],
            "application/vnd.google.colaboratory.intrinsic+json": {
              "type": "string"
            }
          },
          "metadata": {},
          "execution_count": 16
        }
      ]
    },
    {
      "cell_type": "code",
      "source": [
        "data['items'][0]['track']['album']['release_date']"
      ],
      "metadata": {
        "colab": {
          "base_uri": "https://localhost:8080/",
          "height": 36
        },
        "id": "N2XCdmulXyEf",
        "outputId": "be25f267-67da-43a5-cfca-e6e67e18afb5"
      },
      "execution_count": 17,
      "outputs": [
        {
          "output_type": "execute_result",
          "data": {
            "text/plain": [
              "'2020-03-20'"
            ],
            "application/vnd.google.colaboratory.intrinsic+json": {
              "type": "string"
            }
          },
          "metadata": {},
          "execution_count": 17
        }
      ]
    },
    {
      "cell_type": "code",
      "source": [
        "data['items'][0]['track']['album']['total_tracks']"
      ],
      "metadata": {
        "colab": {
          "base_uri": "https://localhost:8080/"
        },
        "id": "WHokaxfPX7Dc",
        "outputId": "50f1d7ba-c312-4a18-8d1e-cc757140a1ee"
      },
      "execution_count": 18,
      "outputs": [
        {
          "output_type": "execute_result",
          "data": {
            "text/plain": [
              "14"
            ]
          },
          "metadata": {},
          "execution_count": 18
        }
      ]
    },
    {
      "cell_type": "code",
      "source": [
        "data['items'][0]['track']['album']['external_urls']['spotify']"
      ],
      "metadata": {
        "colab": {
          "base_uri": "https://localhost:8080/",
          "height": 36
        },
        "id": "6vm9pgH9X_W3",
        "outputId": "c2e9313d-a385-49c9-f050-26343fc85e99"
      },
      "execution_count": 19,
      "outputs": [
        {
          "output_type": "execute_result",
          "data": {
            "text/plain": [
              "'https://open.spotify.com/album/4yP0hdKOZPNshxUOjY0cZj'"
            ],
            "application/vnd.google.colaboratory.intrinsic+json": {
              "type": "string"
            }
          },
          "metadata": {},
          "execution_count": 19
        }
      ]
    },
    {
      "cell_type": "code",
      "source": [
        "# we will extract above data for all of the items in the above url\n",
        "album_list = []\n",
        "for row in data['items']:\n",
        "  album_id = row['track']['album']['id']\n",
        "  album_name = row['track']['album']['name']\n",
        "  album_release_date = row['track']['album']['release_date']\n",
        "  album_total_tracks = row['track']['album']['total_tracks']\n",
        "  album_external_url = row['track']['album']['external_urls']['spotify']\n",
        "  album_elements ={'album_id' : album_id, 'album_name' : album_name,\n",
        "                   'album_release_date' : album_release_date, 'album_total_tracks':album_total_tracks,'album_external_url':album_external_url}\n",
        "  album_list.append(album_elements)"
      ],
      "metadata": {
        "id": "sTAOgxMnYJ11"
      },
      "execution_count": 38,
      "outputs": []
    },
    {
      "cell_type": "code",
      "source": [
        "#Here there can be multiple artists in an album, we need to capture that information as well.\n",
        "data['items'][3]['track']['artists']"
      ],
      "metadata": {
        "colab": {
          "base_uri": "https://localhost:8080/"
        },
        "id": "Weey0C_McS2q",
        "outputId": "8de88dcf-978c-4606-e211-711754a9715a"
      },
      "execution_count": 47,
      "outputs": [
        {
          "output_type": "execute_result",
          "data": {
            "text/plain": [
              "[{'external_urls': {'spotify': 'https://open.spotify.com/artist/246dkjvS1zLTtiykXe5h60'},\n",
              "  'href': 'https://api.spotify.com/v1/artists/246dkjvS1zLTtiykXe5h60',\n",
              "  'id': '246dkjvS1zLTtiykXe5h60',\n",
              "  'name': 'Post Malone',\n",
              "  'type': 'artist',\n",
              "  'uri': 'spotify:artist:246dkjvS1zLTtiykXe5h60'},\n",
              " {'external_urls': {'spotify': 'https://open.spotify.com/artist/1zNqQNIdeOUZHb8zbZRFMX'},\n",
              "  'href': 'https://api.spotify.com/v1/artists/1zNqQNIdeOUZHb8zbZRFMX',\n",
              "  'id': '1zNqQNIdeOUZHb8zbZRFMX',\n",
              "  'name': 'Swae Lee',\n",
              "  'type': 'artist',\n",
              "  'uri': 'spotify:artist:1zNqQNIdeOUZHb8zbZRFMX'}]"
            ]
          },
          "metadata": {},
          "execution_count": 47
        }
      ]
    },
    {
      "cell_type": "code",
      "source": [
        "# we will extract artist related information\n",
        "artist_list = []\n",
        "for row in data['items']:\n",
        "  for key,value in row.items():\n",
        "    if key == \"track\":\n",
        "      for artist in value['artists']:\n",
        "        artist_list.append({'artist_id':artist['id'],'artist_name':artist['name'],'external_url':artist['href']})"
      ],
      "metadata": {
        "id": "BEV4y5bBaNCI"
      },
      "execution_count": 49,
      "outputs": []
    },
    {
      "cell_type": "code",
      "source": [
        "# we will extract songs related information\n",
        "songs_list = []\n",
        "for row in data['items']:\n",
        "  song_id = row['track']['id']\n",
        "  song_name = row['track']['name']\n",
        "  song_duration = row['track']['duration_ms']\n",
        "  song_url = row['track']['external_urls']['spotify']\n",
        "  song_popularity = row['track']['popularity']\n",
        "  song_added = row['added_at']\n",
        "  album_id = row['track']['album']['id']\n",
        "  artist_id= row['track']['album']['artists'][0]['id']\n",
        "  song_elements ={'song_id':song_id,'song_name':song_name,'song_duration':song_duration,'song_url':song_url,'song_popularity':song_popularity,'song_added':song_added,\n",
        "                  'album_id' : album_id, 'artist_id' : artist_id,}\n",
        "  songs_list.append(song_elements)"
      ],
      "metadata": {
        "id": "VIPGIUWye4ru"
      },
      "execution_count": 53,
      "outputs": []
    },
    {
      "cell_type": "code",
      "source": [
        "#converting dictionary list to dataframe\n",
        "df_album = pd.DataFrame(album_list)\n",
        "df_artist = pd.DataFrame(artist_list)\n",
        "df_songs = pd.DataFrame(songs_list)"
      ],
      "metadata": {
        "id": "0o-jfVg7bk_a"
      },
      "execution_count": 55,
      "outputs": []
    },
    {
      "cell_type": "code",
      "source": [
        "# Dropping duplicates and converting datetime field\n",
        "df_album = df_album.drop_duplicates()\n",
        "df_artist = df_artist.drop_duplicates()\n",
        "df_songs = df_songs.drop_duplicates()\n",
        "\n",
        "df_album['album_release_date'] = pd.to_datetime(df_album['album_release_date'])\n",
        "df_songs['song_added'] = pd.to_datetime(df_songs['song_added'])"
      ],
      "metadata": {
        "id": "47hxvEtcbyO1"
      },
      "execution_count": 60,
      "outputs": []
    },
    {
      "cell_type": "code",
      "source": [
        "df_album.info()"
      ],
      "metadata": {
        "colab": {
          "base_uri": "https://localhost:8080/"
        },
        "id": "6CKDY5sMhuCo",
        "outputId": "d10ad4d9-cf67-4175-c7e9-7123a83500e6"
      },
      "execution_count": 63,
      "outputs": [
        {
          "output_type": "stream",
          "name": "stdout",
          "text": [
            "<class 'pandas.core.frame.DataFrame'>\n",
            "Int64Index: 94 entries, 0 to 99\n",
            "Data columns (total 5 columns):\n",
            " #   Column              Non-Null Count  Dtype         \n",
            "---  ------              --------------  -----         \n",
            " 0   album_id            94 non-null     object        \n",
            " 1   album_name          94 non-null     object        \n",
            " 2   album_release_date  94 non-null     datetime64[ns]\n",
            " 3   album_total_tracks  94 non-null     int64         \n",
            " 4   album_external_url  94 non-null     object        \n",
            "dtypes: datetime64[ns](1), int64(1), object(3)\n",
            "memory usage: 4.4+ KB\n"
          ]
        }
      ]
    },
    {
      "cell_type": "markdown",
      "source": [],
      "metadata": {
        "id": "77wMkU7eYWSZ"
      }
    }
  ]
}